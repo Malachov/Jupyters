{
 "cells": [
  {
   "cell_type": "markdown",
   "metadata": {},
   "source": [
    "# Popis systému\n",
    "\n",
    "Regulátor může být popsán například pomocí následjícího obrázku\n",
    "\n",
    "<img src=\"Adaptive/Fig_feedb_controller.png\" width=700>\n",
    "\n",
    "Výstup systému počítáme takto\n",
    "$$  y(k+h)= w \\cdot x\n",
    "=\\begin{bmatrix}\n",
    "w_0 & w_1 & \\dots & w_{n+m} \n",
    "\\end{bmatrix}\n",
    "\\cdot\n",
    "\\begin{bmatrix}\n",
    "1\\\\  y(k)\\\\ y(k-1)\\\\ \\vdots \\\\ y(k-n+1)\\\\ u(k)\\\\ u(k-1)\\\\ \\vdots \\\\ u(k-m+1)\n",
    "\\end{bmatrix},\n",
    "$$\n",
    "\n",
    "\n",
    "Definujeme si chybu\n",
    "$$ \\normalsize{e(k+1)=y(k+1)-\\tilde{y}(k+1),}$$\n",
    "  \n",
    "\n",
    "Chybu se budeme snažit minimalizovat lépe zvolenými vahami\n",
    "\n",
    "$$\\textbf{w}=\\textbf{w}+\\small{\\Delta}\\textbf{w}.$$\n",
    "\n",
    "Derivujeme chybu podle váhy a vzniknuvší gradient přidáme k aktuálním vahám\n",
    "\n",
    "$$\\Delta\\textbf{w}(k)=\n",
    "-\\dfrac{\\mu_w}{2}\\dfrac{\\partial e^2(k)}{\\partial \\textbf{w}}\n",
    "=\\mu_w\\cdot e(k) \\cdot \\textbf{x}^T(k-1) \\ , $$\n",
    "\n",
    "\n",
    "Definice vstupu a převod na jiné popisy"
   ]
  },
  {
   "cell_type": "code",
   "execution_count": 7,
   "metadata": {
    "ExecuteTime": {
     "end_time": "2019-10-07T11:56:54.105949Z",
     "start_time": "2019-10-07T11:55:36.882590Z"
    }
   },
   "outputs": [
    {
     "data": {
      "application/vnd.jupyter.widget-view+json": {
       "model_id": "",
       "version_major": 2,
       "version_minor": 0
      },
      "text/plain": [
       "Canvas(toolbar=Toolbar(toolitems=[('Home', 'Reset original view', 'home', 'home'), ('Back', 'Back to previous …"
      ]
     },
     "metadata": {},
     "output_type": "display_data"
    },
    {
     "data": {
      "application/vnd.jupyter.widget-view+json": {
       "model_id": "",
       "version_major": 2,
       "version_minor": 0
      },
      "text/plain": [
       "Canvas(toolbar=Toolbar(toolitems=[('Home', 'Reset original view', 'home', 'home'), ('Back', 'Back to previous …"
      ]
     },
     "metadata": {},
     "output_type": "display_data"
    },
    {
     "data": {
      "application/vnd.jupyter.widget-view+json": {
       "model_id": "0e105783be3448e2940d69436bbabb0a",
       "version_major": 2,
       "version_minor": 0
      },
      "text/plain": [
       "HBox(children=(VBox(children=(SelectionSlider(description='Sampling', index=1, options=(('0.001', 0.001), ('0.…"
      ]
     },
     "metadata": {},
     "output_type": "display_data"
    },
    {
     "data": {
      "application/vnd.jupyter.widget-view+json": {
       "model_id": "c4b92dbd668047e089b3d05d151ff97f",
       "version_major": 2,
       "version_minor": 0
      },
      "text/plain": [
       "Output()"
      ]
     },
     "metadata": {},
     "output_type": "display_data"
    },
    {
     "data": {
      "text/plain": [
       "'\\n\\n\\n\\nplt.figure(figsize=(12,7))\\nplt.subplot(4, 1, 1)\\nplt.plot(t, y); plt.grid(); plt.xlabel(\\'t\\')\\nplt.ylabel(\"u4 predikované\")\\n\\nplt.subplot(4, 1, 2)\\nplt.plot(t, y_ref); plt.grid(); plt.xlabel(\\'t\\')\\nplt.ylabel(\"u4 skutečné\")\\n\\nplt.subplot(4, 1, 3)\\nplt.plot(t, e); plt.grid(); plt.xlabel(\\'t\\')\\nplt.ylabel(\"Chyba\")\\n\\nplt.subplot(4, 1, 4)\\nplt.plot(t, wall); plt.grid(); plt.xlabel(\\'t\\')\\nplt.ylabel(\"Hodnoty vah\")\\n\\nplt.suptitle(\"Predikovaná vs. skutečná hodnota, chyba a váhy\", fontsize=20)\\nplt.subplots_adjust(top=0.88)\\nplt.show()\\n\\nprint(sum(abs(e)))\\n\\nprint(\\'parametry systému [] \\', w)\\n'"
      ]
     },
     "execution_count": 7,
     "metadata": {},
     "output_type": "execute_result"
    }
   ],
   "source": [
    "import numpy as np\n",
    "%matplotlib widget\n",
    "import matplotlib.pyplot as plt\n",
    "from math import e\n",
    "import sympy as sp\n",
    "from mpmath import e\n",
    "import ipywidgets\n",
    "from IPython.display import display, Math, Latex\n",
    "\n",
    "dt = .05  #[sec]\n",
    "t = np.arange(0, 10, dt)\n",
    "N = len(t)  # delka dat\n",
    "\n",
    "u = np.sin(2 * np.pi / 10 * t)\n",
    "u = np.sign(u)\n",
    "\n",
    "\n",
    "from scipy.integrate import odeint\n",
    "import matplotlib.pyplot as plt\n",
    "\n",
    "def fdxdt(x, t, u, Omega, eta, b0,\n",
    "          b1):  # x=[x1 x2 ... xn] vektor hodnot n stavovych velicin\n",
    "    dx1dt = -Omega0**2 * x[1] - b0 * u\n",
    "    dx2dt = -2 * eta * Omega0 * x[1] - b1 * u + x[0]\n",
    "    return (dx1dt, dx2dt)\n",
    "\n",
    "Omega0 = 10\n",
    "eta = .1\n",
    "b0 = Omega0**2\n",
    "b1 = 0\n",
    "\n",
    "y_ref = np.zeros(N)\n",
    "x10 = 0\n",
    "x20 = 0  # poc. podm\n",
    "\n",
    "x0 = [x10, x20]\n",
    "\n",
    "for i in range(0, N - 1):\n",
    "    tt = [t[i], t[i + 1]]  # [t1 t2]\n",
    "    x = odeint(fdxdt, x0, t,\n",
    "               (u[i], Omega0, eta, b0,\n",
    "                b1))  #returns x=[ [x1(t1) x2(t1)] [x1(t2) x2(t2)]]\n",
    "    #    x=odeint(fdxdt,x0,tt,args=(u[i],)) # <-- pokud je jen jeden extra argument, musi se tak\n",
    "    y_ref[i + 1] = -x[1, 1]\n",
    "    x0 = x[1, :]  # jako nove poc. podm pro dalsi integraci\n",
    "\n",
    "fig = plt.figure()\n",
    "fig.canvas.layout.width = '800px'\n",
    "plt.plot(y_ref)\n",
    "\n",
    "# Create plot, that will be updated\n",
    "fig = plt.figure()\n",
    "fig.canvas.layout.width = '800px'\n",
    "ax = fig.add_subplot(1, 1, 1)\n",
    "y = y_ref  # Empty plot container\n",
    "y_ref_pl, = ax.plot(t, y_ref, label=\"Skutečnost\")\n",
    "y_pl, = ax.plot(t, y, label=\"Identifikovaná\")\n",
    "plt.legend(loc=\"upper right\")\n",
    "\n",
    "# Create widgets - Box with sliders\n",
    "mu_sel = [0.001, 0.01, 0.1, 1, 10]\n",
    "dt_sel = [0.001, 0.01, 0.1, 1]\n",
    "\n",
    "layout = ipywidgets.Layout( display='flex', justify_content='space-around', width='1000px')\n",
    "\n",
    "dt_slid = ipywidgets.SelectionSlider(options=[(\"%g\"%i,i) for i in dt_sel], value=0.01, description='Sampling')\n",
    "mu_slid = ipywidgets.SelectionSlider(options=[(\"%g\"%i,i) for i in mu_sel], description='Learning rate')\n",
    "epochs_slid = ipywidgets.IntSlider(min=1, max=20, step=1, value=1, description='Epochs')\n",
    "random_slid = ipywidgets.RadioButtons( options=[0, 1], description='Random initial weights' )\n",
    "normalize_slid = ipywidgets.RadioButtons(options=[0, 1], description='Normalize mu')\n",
    "\n",
    "vbox = ipywidgets.VBox([dt_slid, mu_slid, epochs_slid])\n",
    "vbox2 = ipywidgets.VBox([random_slid, normalize_slid])\n",
    "hbox = ipywidgets.HBox([vbox, vbox2], layout=layout)\n",
    "\n",
    "\n",
    "def update(mu, epochs, random=0, minorm=0):\n",
    "    \n",
    "    y = np.zeros(len(y_ref))\n",
    "    if random:\n",
    "        w = np.random.randn(2)/3\n",
    "    else:\n",
    "        w = np.zeros(2)\n",
    "    X = np.zeros(2)\n",
    "    X[0] = 1\n",
    "    y = np.zeros(len(y_ref))\n",
    "    e = np.zeros(len(y_ref))\n",
    "\n",
    "    w_all = np.zeros((len(y_ref), 2))\n",
    "    y[0]=y_ref[0]\n",
    "    \n",
    "    for ep in range(epochs):\n",
    "        for i in range(1, len(y_ref)):\n",
    "            X[1] = y_ref[i - 1]\n",
    "            y[i] = np.dot(w, X)\n",
    "            e[i]= y_ref[i] - y[i]\n",
    "            #minorm = mu/(5+np.dot(X,X.T))\n",
    "            dw = mu/(1+sum(X*X)) * e[i] * X\n",
    "            w = w + dw\n",
    "            if ep == epochs - 1:\n",
    "                w_all[i] = w \n",
    "                \n",
    "    ### Update plot ###\n",
    "    y_pl.set_ydata(y)\n",
    "    y_ref_pl.set_ydata(y_ref)\n",
    "    \n",
    "    fig.canvas.draw_idle()\n",
    "\n",
    "    \n",
    "    print('\\n\\nAbsolutní chyba za poslední epochu',sum(abs(e)))\n",
    "    print(f'\\nIdentifikované parametry: c = {w[0]}   a = {w[1]}')\n",
    "\n",
    "    display(Math(r'y(k)=a y(k-1) + c'))\n",
    "    display(Math(fr'y(k)={w[1]} \\cdot y(k-1) + {w[0]}'))\n",
    "    \n",
    "interactive_plot = ipywidgets.interactive_output(update, {\"mu\": mu_slid, \"epochs\": epochs_slid,\n",
    "                                                          \"random\": random_slid, \"minorm\": normalize_slid})\n",
    "\n",
    "display(hbox, interactive_plot)\n",
    "\n",
    "\n",
    "\n",
    "\n",
    "\n",
    "\n",
    "\n",
    "\n",
    "\n",
    "'''\n",
    "\n",
    "\n",
    "\n",
    "plt.figure(figsize=(12,7))\n",
    "plt.subplot(4, 1, 1)\n",
    "plt.plot(t, y); plt.grid(); plt.xlabel('t')\n",
    "plt.ylabel(\"u4 predikované\")\n",
    "\n",
    "plt.subplot(4, 1, 2)\n",
    "plt.plot(t, y_ref); plt.grid(); plt.xlabel('t')\n",
    "plt.ylabel(\"u4 skutečné\")\n",
    "\n",
    "plt.subplot(4, 1, 3)\n",
    "plt.plot(t, e); plt.grid(); plt.xlabel('t')\n",
    "plt.ylabel(\"Chyba\")\n",
    "\n",
    "plt.subplot(4, 1, 4)\n",
    "plt.plot(t, wall); plt.grid(); plt.xlabel('t')\n",
    "plt.ylabel(\"Hodnoty vah\")\n",
    "\n",
    "plt.suptitle(\"Predikovaná vs. skutečná hodnota, chyba a váhy\", fontsize=20)\n",
    "plt.subplots_adjust(top=0.88)\n",
    "plt.show()\n",
    "\n",
    "print(sum(abs(e)))\n",
    "\n",
    "print('parametry systému [] ', w)\n",
    "'''"
   ]
  },
  {
   "cell_type": "code",
   "execution_count": 7,
   "metadata": {},
   "outputs": [
    {
     "data": {
      "application/vnd.jupyter.widget-view+json": {
       "model_id": "2815ed93f1564eda949e26870423ca40",
       "version_major": 2,
       "version_minor": 0
      },
      "text/plain": [
       "Canvas(toolbar=Toolbar(toolitems=[('Home', 'Reset original view', 'home', 'home'), ('Back', 'Back to previous …"
      ]
     },
     "metadata": {},
     "output_type": "display_data"
    },
    {
     "data": {
      "application/vnd.jupyter.widget-view+json": {
       "model_id": "a35a1f1e158745149cae1bf4b878d26b",
       "version_major": 2,
       "version_minor": 0
      },
      "text/plain": [
       "HBox(children=(VBox(children=(SelectionSlider(description='Learning rate', options=(('0.001', 0.001), ('0.01',…"
      ]
     },
     "metadata": {},
     "output_type": "display_data"
    },
    {
     "data": {
      "application/vnd.jupyter.widget-view+json": {
       "model_id": "5771f208dfb74b91bff7eb552c6f56a2",
       "version_major": 2,
       "version_minor": 0
      },
      "text/plain": [
       "Output()"
      ]
     },
     "metadata": {},
     "output_type": "display_data"
    }
   ],
   "source": [
    "import numpy as np\n",
    "%matplotlib widget\n",
    "import matplotlib.pyplot as plt\n",
    "from math import e\n",
    "import sympy as sp\n",
    "from mpmath import e\n",
    "import ipywidgets\n",
    "from IPython.display import display, Math, Latex\n",
    "\n",
    "dt = .05  #[sec]\n",
    "t = np.arange(0, 10, dt)\n",
    "N = len(t)  # delka dat\n",
    "\n",
    "u = np.sin(2 * np.pi / 10 * t)\n",
    "u = np.sign(u)\n",
    "\n",
    "\n",
    "from scipy.integrate import odeint\n",
    "import matplotlib.pyplot as plt\n",
    "\n",
    "def fdxdt(x, t, u, Omega, eta, b0,\n",
    "          b1):  # x=[x1 x2 ... xn] vektor hodnot n stavovych velicin\n",
    "    dx1dt = -Omega0**2 * x[1] - b0 * u\n",
    "    dx2dt = -2 * eta * Omega0 * x[1] - b1 * u + x[0]\n",
    "    return (dx1dt, dx2dt)\n",
    "\n",
    "Omega0 = 10\n",
    "eta = .1\n",
    "b0 = Omega0**2\n",
    "b1 = 0\n",
    "\n",
    "y_ref = np.zeros(N)\n",
    "x10 = 0\n",
    "x20 = 0  # poc. podm\n",
    "\n",
    "x0 = [x10, x20]\n",
    "\n",
    "for i in range(0, N - 1):\n",
    "    tt = [t[i], t[i + 1]]  # [t1 t2]\n",
    "    x = odeint(fdxdt, x0, t,\n",
    "               (u[i], Omega0, eta, b0,\n",
    "                b1))  #returns x=[ [x1(t1) x2(t1)] [x1(t2) x2(t2)]]\n",
    "    #    x=odeint(fdxdt,x0,tt,args=(u[i],)) # <-- pokud je jen jeden extra argument, musi se tak\n",
    "    y_ref[i + 1] = -x[1, 1]\n",
    "    x0 = x[1, :]  # jako nove poc. podm pro dalsi integraci\n",
    "\n",
    "# Create plot, that will be updated\n",
    "fig = plt.figure()\n",
    "fig.canvas.layout.width = '800px'\n",
    "\n",
    "y = e = np.zeros(N)  # Empty plot containers\n",
    "\n",
    "ax = plt.subplot(3, 1, 1)\n",
    "y_ref_pl, = ax.plot(t, y_ref, label=\"Skutečnost\"); plt.grid(); plt.xlabel('t')\n",
    "y_pl, = ax.plot(t, y, label=\"Identifikovaná\")\n",
    "plt.legend(loc=\"upper right\")\n",
    "\n",
    "ax2 = plt.subplot(3, 1, 2)\n",
    "\n",
    "plt.ylabel(\"Chyba\")\n",
    "\n",
    "ax3 = plt.subplot(3, 1, 3)\n",
    "plt.ylabel(\"Váhy\")\n",
    "\n",
    "plt.suptitle(\"Predikovaná vs. skutečná hodnota, chyba a váhy\", fontsize=20)\n",
    "plt.subplots_adjust(top=0.88)\n",
    "plt.show()\n",
    "\n",
    "# Create widgets - Box with sliders\n",
    "mu_sel = [0.001, 0.01, 0.1, 1, 10]\n",
    "dt_sel = [0.001, 0.01, 0.1, 1]\n",
    "\n",
    "layout = ipywidgets.Layout( display='flex', justify_content='space-around', width='1000px')\n",
    "\n",
    "mu_slid = ipywidgets.SelectionSlider(options=[(\"%g\"%i,i) for i in mu_sel], description='Learning rate')\n",
    "epochs_slid = ipywidgets.IntSlider(min=1, max=20, step=1, value=1, description='Epochs')\n",
    "random_slid = ipywidgets.RadioButtons( options=[0, 1], description='Random w' )\n",
    "normalize_slid = ipywidgets.RadioButtons(options=[0, 1], description='Normalize mu')\n",
    "\n",
    "vbox = ipywidgets.VBox([mu_slid, epochs_slid])\n",
    "vbox2 = ipywidgets.VBox([random_slid, normalize_slid])\n",
    "hbox = ipywidgets.HBox([vbox, vbox2], layout=layout)\n",
    "\n",
    "\n",
    "def update(mu, epochs, random=0, minorm=0):\n",
    "    \n",
    "    y = np.zeros(len(y_ref))\n",
    "    if random:\n",
    "        w = np.random.randn(2)/3\n",
    "    else:\n",
    "        w = np.zeros(2)\n",
    "    X = np.zeros(2)\n",
    "    X[0] = 1\n",
    "    y = np.zeros(len(y_ref))\n",
    "    e = np.zeros(len(y_ref))\n",
    "\n",
    "    w_all = np.zeros((len(y_ref), 2))\n",
    "    y[0]=y_ref[0]\n",
    "    \n",
    "    for ep in range(epochs):\n",
    "        for i in range(1, len(y_ref)):\n",
    "            X[1] = y_ref[i - 1]\n",
    "            y[i] = np.dot(w, X)\n",
    "            e[i]= y_ref[i] - y[i]\n",
    "            if minorm:\n",
    "                mu = mu_orig/(1 + np.dot(X, X))\n",
    "            dw = mu * e[i] * X\n",
    "            w = w + dw\n",
    "            if ep == epochs - 1:\n",
    "                w_all[i] = w \n",
    " \n",
    "\n",
    "    ### Update plot ###\n",
    "    y_pl.set_ydata(y)\n",
    "    #e_pl.set_ydata(e)\n",
    "\n",
    "    fig.canvas.draw_idle()\n",
    "    \n",
    "    ax2.clear()\n",
    "    e_pl, = ax2.plot(t, e)\n",
    "    \n",
    "    ax3.clear()\n",
    "    w_all_pl = ax3.plot(t, w_all)\n",
    "    plt.ylabel(\"Hodnoty vah\")\n",
    "\n",
    "\n",
    "    print('\\n\\nAbsolutní chyba za poslední epochu',sum(abs(e)))\n",
    "    print(f'\\nIdentifikované parametry: c = {w[0]}   a = {w[1]}')\n",
    "\n",
    "    display(Math(r'y(k)=a y(k-1) + c'))\n",
    "    display(Math(fr'y(k)={w[1]} \\cdot y(k-1) + {w[0]}'))\n",
    "    \n",
    "interactive_plot = ipywidgets.interactive_output(update, {\"mu\": mu_slid, \"epochs\": epochs_slid,\n",
    "                                                          \"random\": random_slid, \"minorm\": normalize_slid})\n",
    "\n",
    "display(hbox, interactive_plot)\n"
   ]
  },
  {
   "cell_type": "code",
   "execution_count": 1,
   "metadata": {},
   "outputs": [
    {
     "data": {
      "text/plain": [
       "3"
      ]
     },
     "execution_count": 1,
     "metadata": {},
     "output_type": "execute_result"
    }
   ],
   "source": [
    "\n",
    "\n",
    "def ahooj(a = 7):\n",
    "    v = ahoj\n",
    "    ahoj = \n",
    "    return 3\n",
    "    \n",
    "    \n",
    "\n",
    "ahoj = 5\n",
    "\n",
    "ahooj(3)"
   ]
  },
  {
   "cell_type": "markdown",
   "metadata": {},
   "source": [
    "Nyní máme vstup i výstup a můžeme tedy identifikovat systém."
   ]
  },
  {
   "cell_type": "code",
   "execution_count": 2,
   "metadata": {},
   "outputs": [],
   "source": [
    "\n",
    "y_order = 2\n",
    "u_order = 1\n",
    "\n",
    "x_len = 1 + y_order + u_order"
   ]
  },
  {
   "cell_type": "code",
   "execution_count": null,
   "metadata": {},
   "outputs": [],
   "source": []
  }
 ],
 "metadata": {
  "kernelspec": {
   "display_name": "Python 3",
   "language": "python",
   "name": "python3"
  },
  "language_info": {
   "codemirror_mode": {
    "name": "ipython",
    "version": 3
   },
   "file_extension": ".py",
   "mimetype": "text/x-python",
   "name": "python",
   "nbconvert_exporter": "python",
   "pygments_lexer": "ipython3",
   "version": "3.8.0"
  },
  "latex_envs": {
   "LaTeX_envs_menu_present": true,
   "autoclose": false,
   "autocomplete": true,
   "bibliofile": "biblio.bib",
   "cite_by": "apalike",
   "current_citInitial": 1,
   "eqLabelWithNumbers": true,
   "eqNumInitial": 1,
   "hotkeys": {
    "equation": "Ctrl-E",
    "itemize": "Ctrl-I"
   },
   "labels_anchors": false,
   "latex_user_defs": false,
   "report_style_numbering": false,
   "user_envs_cfg": false
  },
  "toc": {
   "base_numbering": 1,
   "nav_menu": {},
   "number_sections": true,
   "sideBar": true,
   "skip_h1_title": false,
   "title_cell": "Table of Contents",
   "title_sidebar": "Contents",
   "toc_cell": false,
   "toc_position": {},
   "toc_section_display": true,
   "toc_window_display": false
  },
  "varInspector": {
   "cols": {
    "lenName": 16,
    "lenType": 16,
    "lenVar": 40
   },
   "kernels_config": {
    "python": {
     "delete_cmd_postfix": "",
     "delete_cmd_prefix": "del ",
     "library": "var_list.py",
     "varRefreshCmd": "print(var_dic_list())"
    },
    "r": {
     "delete_cmd_postfix": ") ",
     "delete_cmd_prefix": "rm(",
     "library": "var_list.r",
     "varRefreshCmd": "cat(var_dic_list()) "
    }
   },
   "position": {
    "height": "359.183px",
    "left": "741px",
    "right": "20px",
    "top": "38px",
    "width": "497.333px"
   },
   "types_to_exclude": [
    "module",
    "function",
    "builtin_function_or_method",
    "instance",
    "_Feature"
   ],
   "window_display": false
  }
 },
 "nbformat": 4,
 "nbformat_minor": 4
}
