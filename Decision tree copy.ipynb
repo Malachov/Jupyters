{
 "cells": [
  {
   "cell_type": "markdown",
   "metadata": {},
   "source": [
    "# Machine learning obecně\n",
    "## Teorie\n",
    "Machine learning je sada nástrojů, jak přimět stroje používat schopnosti typické převážně pro lidi. Mezi takové schopnosti může patřit například učení se, schopnost abstrakce, schopnost zjednodušení zanedbáním nepodstatných věcí... Mezi nejčastěji používané nástroje a algoritmy patří neuronové sítě v mnoha podobách (konvoluční, rekurentní, deep, autoenkodéry), rozhodovací stromy, analýza hlavních komponent (PCA), genetické algoritmy, support vector machine, mnoho typů regresí, t-SNE, K-means clusterování, random forest, Bayesovské přístupy, ANOVA a mnoho mnoho dalšího...\n",
    "\n",
    "K čemu tyto algoritmy mohou sloužit?\n",
    "\n",
    "**Predikce <br>\n",
    "Klasifikace <br>\n",
    "Clusterování <br>\n",
    "Detekce anomálií <br>\n",
    "Optimalizace <br>\n",
    "A mnoho dalšího <br>**\n",
    "\n",
    "### Kurikulum pro machine learning\n",
    "[Výukové materiály](https://github.com/llSourcell/Learn_Machine_Learning_in_3_Months) k tomu co bude třeba. Lineární algebra, statistika... Stačí se vracet až když budete potřebovat.\n",
    "### Zdroje\n",
    "[Youtube playlist s názvem Machine learning](https://www.youtube.com/playlist?list=PLblh5JKOoLUICTaGLRoHQDuF_7q2GfuJF) od velmi pěkně udělaného youtube kanálu\n",
    "\n",
    "Dalším obrovským zdrojem inspirace je [Siraj raval](https://www.youtube.com/channel/UCWN3xxRkmTPmbKwht9FuE5A). Siraj má mnoho konkrétních ukázek aplikací neuronových sítí, mnoho videí o různých knihovnách. Nutno podotknout, že je vše ve velmi svižném tempu a velmi líbivou formou.\n",
    "\n",
    "Následující slova budou o jedné z mnoha metod používaných ke klasifikaci a predikci - o rozhodovacích stromech\n",
    "\n",
    "## Decision trees\n",
    "Youtube video pro uvedení do problému. Pokud nemáte video zobrazené, musíte danou buňku spustit.\n",
    "### Decision trees pt.1"
   ]
  },
  {
   "cell_type": "code",
   "execution_count": null,
   "metadata": {
    "ExecuteTime": {
     "end_time": "2019-10-05T11:11:06.705171Z",
     "start_time": "2019-10-05T11:11:06.549770Z"
    },
    "scrolled": false
   },
   "outputs": [],
   "source": [
    "from IPython.display import YouTubeVideo\n",
    "YouTubeVideo('7VeUPuFGJHk')"
   ]
  },
  {
   "cell_type": "markdown",
   "metadata": {},
   "source": [
    "### Decision trees pt.2"
   ]
  },
  {
   "cell_type": "code",
   "execution_count": null,
   "metadata": {
    "ExecuteTime": {
     "end_time": "2019-10-05T11:11:06.830160Z",
     "start_time": "2019-10-05T11:11:06.705171Z"
    },
    "scrolled": false
   },
   "outputs": [],
   "source": [
    "YouTubeVideo('wpNl-JwwplA')"
   ]
  },
  {
   "cell_type": "markdown",
   "metadata": {},
   "source": [
    "## Praktický příklad\n",
    "**Př.** Chceme zjistit, zda pojistit, či nepojistit pacienta. Máme k dispozici data - viz tabulka. U těchto pacientů již víme, zda je výhodné pacienta pojistit, nebo ne. Jde tedy o tzv. učení s učitelem. O dalších pacientech však tuto informaci nemáme, zato hodnoty z ostatních sloupečků ano. Tyto hodnoty následně použijeme, abychom dostali hodnotu kterou zatím nemáme a kterou chceme získat. \n",
    "\n",
    "Potřebujeme určit, který ze sloupečků nám řekne pro naše rozhodnutí nejvíc.\n",
    "To bude ten sloupeček, ve kterém bude nejvíc jedniček shodných se sloupečkem **Pojistit?**\n",
    "<img src=\"Decision trees attch/tabulka.png\"  width=400>\n",
    "\n",
    "Poslední dva pacienty nezahrnem do výpočtů!!  Pro nás jsou testovací množinou (Prvních pět je potom trénovací množinou).\n",
    "\n",
    "Důležitost sloupce nám určí tzv. Gini index. V našem případě si pro první sloupeček kuřák uděláme dvě hromádky. Dále postupujeme podle obrázku. Pro všechny kuřáky zjistíme, kolik jich bylo pojištěno, a kolik nepojištěno. To samé si zjistíme pro nekuřáky. Snažíme se Gini index minimalizovat.\n",
    "<img src=\"Decision trees attch/Gini.png\"  width=400>\n",
    "\n",
    "Bereme v potaz jenom řádky, kde známe všechny potřebné informace.\n",
    "\n",
    "<img src=\"Decision trees attch/ginivypocet.png\"  width=700>\n",
    "\n",
    "Takto vypočteme GINI indexy pro všechny sloupečky\n",
    "V této ukázce je vidět že GINI kuřáků vyšlo 0 – to znamená, že pokud je člověk kuřák, můžeme říct, že ho pojistíme – opravdu z tabulky je vidět, že se nestane, že u kuřáka by byla v kolonce pojistit 0 – je to samozřejmě jen ukázkový případ s náhodně zvolenými čísly, navíc s kriticky malým vzorkem dat – pouze pro manifestaci postupu.\n",
    "\n",
    "Nyní víme, který sloupec je nejdůležitější. Tzv. Root node, čili první uzel stromu je pro nás tedy kuřák/nekuřák. Dále rozdělíme vzorek na dvě množiny (kuřáci, nekuřáci) a počítáme opět nový nejdůležitější sloupec pro každou množinu zvlášť, tím uděláme druhou větev stromu. Takto postupujeme až vytvoříme celý strom.\n",
    "\n",
    "Vyhodnocení provedeme tak, že z trénovací množiny vezmeme pacienta, podíváme se, zda je kuřák, či ne, a postupujeme dále po stromu přes další a další větve stromu. Dojdeme až na konec, kde vidíme, kolik pacientů s přesně touto charakteristikou bylo pojištěno a kolik ne.\n",
    "\n",
    "U následujícího obrázku pro pacienta, který měl Good Circ ano, ano u Blocked, a ano u Chest Pain, 17 pacientů bylo pojištěno a 3 pacienti ne.\n",
    "Nejen že vidíme, zda pojistit, či ne, ale i s jakou přesností výsledek víme.\n",
    "K obdobnému výsledku se lze dostat i pro spojité veličiny!!!\n",
    "\n",
    "<img src=\"Decision trees attch/Obrázek2.png\"  width=400>\n",
    "\n"
   ]
  },
  {
   "cell_type": "markdown",
   "metadata": {},
   "source": [
    "# Aplikace rozhodovacího stromu\n",
    "Uveďme nyní celý kód z Edureky a rozeberme si ho. Na začátku máme uvedení kódování, v němž je kód napsán a docstring (to co je mezi třemi uvozovkami '''), tzn. popis toho, o čem kód je.\n",
    "Následující komentáře budou již jako komentáře uvnitř kódu, aby šel kód spustit pod jedinou buňkou."
   ]
  },
  {
   "cell_type": "code",
   "execution_count": null,
   "metadata": {
    "ExecuteTime": {
     "end_time": "2019-10-05T11:11:10.788740Z",
     "start_time": "2019-10-05T11:11:06.830160Z"
    }
   },
   "outputs": [],
   "source": [
    "# -*- coding: utf-8 -*-\n",
    "\"\"\"\n",
    "Created on Sun Dec 13 21:12:54 2015\n",
    "\n",
    "@author: ldierker\n",
    "\"\"\"\n",
    "# Následuje pro nás velmi důležitá část - import modulů a funkcí, které jsou potřeba\n",
    "from pandas import Series, DataFrame\n",
    "import pandas as pd\n",
    "import numpy as np\n",
    "import os\n",
    "import matplotlib.pylab as plt\n",
    "from sklearn.model_selection import train_test_split\n",
    "from sklearn.tree import DecisionTreeClassifier\n",
    "from sklearn.metrics import classification_report\n",
    "import sklearn.metrics\n",
    "\n",
    "# Následuje změna pracovní složky pro následný import dat\n",
    "# Vložte cestu s vaším .csv souborem\n",
    "# všimněme si r před stringem, to značí\n",
    "# pohlížet na string jako na raw string - některé lomítko\n",
    "# s písmenem totiž může být vráceno jako \n",
    "# funkce a cesta potom nemusí fungovat\n",
    "# !!! Lepší je používat relativní cestu - právě pro přenos kódu na jiné zařízení !!!\n",
    "\n",
    "#os.chdir(r\"C:\\Users\\daniel.malachov\\Desktop\\Cours\\Machine learning for data analysis\\Datasets\")\n",
    "\n",
    "\"\"\"\n",
    "Data Engineering and Analysis\n",
    "\"\"\"\n",
    "\n",
    "# Načtení datasetu pomocí funkce .read_csv \n",
    "\n",
    "AH_data = pd.read_csv(\"Decision trees attch/tree_addhealth.csv\")\n",
    "\n",
    "data_clean = AH_data.dropna()\n",
    "\n",
    "data_clean.dtypes\n",
    "data_clean.describe()\n",
    "\n",
    "\n",
    "\"\"\"\n",
    "Modeling and Prediction\n",
    "\"\"\"\n",
    "\n",
    "# Rozdělení na trénovací a testovací množinu\n",
    "\n",
    "predictors = data_clean[['BIO_SEX','HISPANIC','WHITE','BLACK','NAMERICAN','ASIAN',\n",
    "'age','ALCEVR1','ALCPROBS1','marever1','cocever1','inhever1','cigavail','DEP1',\n",
    "'ESTEEM1','VIOL1','PASSIST','DEVIANT1','SCHCONN1','GPA1','EXPEL1','FAMCONCT','PARACTV',\n",
    "'PARPRES']]\n",
    "\n",
    "targets = data_clean.TREG1\n",
    "\n",
    "pred_train, pred_test, tar_train, tar_test  =   train_test_split(predictors, targets, test_size=.4)\n",
    "\n",
    "pred_train.shape\n",
    "pred_test.shape\n",
    "tar_train.shape\n",
    "tar_test.shape\n",
    "\n",
    "# Natrénování modelu - není co komentovat. Celé natrénování provede importovaná funkce\n",
    "\n",
    "classifier=DecisionTreeClassifier()\n",
    "classifier=classifier.fit(pred_train,tar_train)\n",
    "\n",
    "predictions=classifier.predict(pred_test)\n",
    "\n",
    "# Confusion matrix nám řekne kolik kladných odhadů bylo správně, \n",
    "# kolik záporných odhadů bylo správně a kolikr8t se model spletl\n",
    "\n",
    "sklearn.metrics.confusion_matrix(tar_test,predictions)\n",
    "sklearn.metrics.accuracy_score(tar_test, predictions)\n",
    "\n",
    "# Zobrazení stromu\n",
    "\n",
    "from sklearn import tree\n",
    "from io import StringIO\n",
    "from IPython.display import Image\n",
    "out = StringIO()\n",
    "\n",
    "# Kód využívá k zobrazení Graphviz. Pokud ho nemáte, možná se strom nezobrazí.\n",
    "# Kromě instalace je potřeba přidat cestu  graphviz enviromentální proměnné\n",
    "\n",
    "tree.export_graphviz(classifier, out_file=out)\n",
    "import pydotplus\n",
    "graph=pydotplus.graph_from_dot_data(out.getvalue())\n",
    "Image(graph.create_png())\n",
    "\n"
   ]
  },
  {
   "cell_type": "markdown",
   "metadata": {},
   "source": [
    "Pro případ, že se vám strom nezobrazil a nebo nechcete instalovat Graphviz. <br> \n",
    "Obrázek vypadá takto\n",
    "<img src=\"Decision trees attch/strom.png\"  width=700>"
   ]
  }
 ],
 "metadata": {
  "file_extension": ".py",
  "kernelspec": {
   "display_name": "Python 3",
   "language": "python",
   "name": "python3"
  },
  "language_info": {
   "codemirror_mode": {
    "name": "ipython",
    "version": 3
   },
   "file_extension": ".py",
   "mimetype": "text/x-python",
   "name": "python",
   "nbconvert_exporter": "python",
   "pygments_lexer": "ipython3",
   "version": "3.7.4"
  },
  "mimetype": "text/x-python",
  "name": "python",
  "npconvert_exporter": "python",
  "pygments_lexer": "ipython3",
  "toc": {
   "base_numbering": 1,
   "nav_menu": {},
   "number_sections": true,
   "sideBar": true,
   "skip_h1_title": false,
   "title_cell": "Table of Contents",
   "title_sidebar": "Contents",
   "toc_cell": false,
   "toc_position": {},
   "toc_section_display": true,
   "toc_window_display": false
  },
  "varInspector": {
   "cols": {
    "lenName": 16,
    "lenType": 16,
    "lenVar": 40
   },
   "kernels_config": {
    "python": {
     "delete_cmd_postfix": "",
     "delete_cmd_prefix": "del ",
     "library": "var_list.py",
     "varRefreshCmd": "print(var_dic_list())"
    },
    "r": {
     "delete_cmd_postfix": ") ",
     "delete_cmd_prefix": "rm(",
     "library": "var_list.r",
     "varRefreshCmd": "cat(var_dic_list()) "
    }
   },
   "types_to_exclude": [
    "module",
    "function",
    "builtin_function_or_method",
    "instance",
    "_Feature"
   ],
   "window_display": false
  },
  "version": 3
 },
 "nbformat": 4,
 "nbformat_minor": 2
}
