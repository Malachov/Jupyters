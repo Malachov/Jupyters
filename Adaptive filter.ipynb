{
 "cells": [
  {
   "cell_type": "markdown",
   "metadata": {},
   "source": [
    "# Definice vstupu a převod na jiné popisy\n",
    "\n",
    "Vstupem může být například systém popsaný takovouto diferenciální rovnicí\n",
    "\n",
    "$$ \\tau \\cdot \\bar{y}\\prime{}(t) + \\bar{y}(t) = S_u \\cdot u(t)\\\\ $$\n",
    "\n",
    "V případě, že chceme uvažovat šum:\n",
    "$$ y=\\bar{y}+noise $$\n",
    "\n",
    "$$ \n",
    "\\tilde{y}(k+h)\n",
    "=\\textbf{w} \\cdot \\textbf{x}\n",
    "=\\begin{bmatrix}\n",
    "w_0 & w_1 & \\dots & w_{n+m} \n",
    "\\end{bmatrix}\n",
    "\\cdot\n",
    "\\begin{bmatrix}\n",
    "1\\\\  y(k)\\\\ y(k-1)\\\\ \\vdots \\\\ y(k-n+1)\\\\ u(k)\\\\ u(k-1)\\\\ \\vdots \\\\ u(k-m+1)\n",
    "\\end{bmatrix},\n",
    "$$"
   ]
  },
  {
   "cell_type": "markdown",
   "metadata": {},
   "source": [
    "<img src=\"Adaptive controll\\Fig_feedb_controller.png\" alt=\"Drawing\" style=\"width: 700px;\"/>\n",
    "\n",
    "The gradient learning rule (graident descent) first calculates an error of the model as  \n",
    "\n",
    "$$ \\normalsize{e(k+1)=y(k+1)-\\tilde{y}(k+1),}$$\n",
    "  \n",
    "<br>\n",
    "\n",
    "$$\n",
    "\\normalsize{\n",
    "\\small{\\Delta} \\normalsize{\\textbf{w}}=\\large{-\\frac{1}{2}\\tilde{\\mu}\\frac{\\partial \\large{e}^{2}(k+1)}{\\partial \\textbf{w}}}=\\large \\frac{\\mu}{1+\\textbf{x}^T \\cdot \\textbf{x}} \\normalsize \\cdot e(k+1) \\cdot \\textbf{x}^T \n",
    "}\n",
    "$$\n",
    "\n",
    "$$\\textbf{w}=\\textbf{w}+\\small{\\Delta}\\textbf{w}.$$"
   ]
  },
  {
   "cell_type": "code",
   "execution_count": 6,
   "metadata": {
    "ExecuteTime": {
     "end_time": "2019-10-04T13:06:27.989872Z",
     "start_time": "2019-10-04T13:06:27.979741Z"
    }
   },
   "outputs": [],
   "source": [
    "import numpy as np\n",
    "import matplotlib as plt\n",
    "\n",
    "mu = 0.001\n",
    "t_sam = 0.01\n",
    "n = 1000\n",
    "\n",
    "t = np.arange(0, n, t_sam)\n",
    "yr = np.sin(t)\n",
    "\n",
    "w = np.random.randn(n)\n",
    "e = np.zeros(n)\n",
    "y = np.zeros(n)  \n",
    "\n",
    "\n",
    "\n",
    "for k in range(n,N):\n",
    "      x=y[k-n:k]\n",
    "      y[k]=dot(w,x)\n",
    "      e[k]=yr[k]-y[k]\n",
    "      dydw=x\n",
    "      dw=mu/(1+sum(x**2))*e[k]*dydw\n",
    "      w=w+dw\n",
    "      wall[k,:]=w"
   ]
  },
  {
   "cell_type": "markdown",
   "metadata": {
    "ExecuteTime": {
     "end_time": "2019-10-04T13:12:23.196472Z",
     "start_time": "2019-10-04T13:12:23.186358Z"
    }
   },
   "source": [
    "$$r(x,y,lag)={1 \\over {N}} \\sum_{k}^N {(x_{k-lag}-\\bar{x})(y_k-\\bar{y})\\over\\sigma_x\\sigma_y}$$"
   ]
  }
 ],
 "metadata": {
  "kernelspec": {
   "display_name": "Python 3",
   "language": "python",
   "name": "python3"
  },
  "language_info": {
   "codemirror_mode": {
    "name": "ipython",
    "version": 3
   },
   "file_extension": ".py",
   "mimetype": "text/x-python",
   "name": "python",
   "nbconvert_exporter": "python",
   "pygments_lexer": "ipython3",
   "version": "3.7.4"
  },
  "toc": {
   "base_numbering": 1,
   "nav_menu": {},
   "number_sections": true,
   "sideBar": true,
   "skip_h1_title": false,
   "title_cell": "Table of Contents",
   "title_sidebar": "Contents",
   "toc_cell": false,
   "toc_position": {},
   "toc_section_display": true,
   "toc_window_display": false
  },
  "varInspector": {
   "cols": {
    "lenName": 16,
    "lenType": 16,
    "lenVar": 40
   },
   "kernels_config": {
    "python": {
     "delete_cmd_postfix": "",
     "delete_cmd_prefix": "del ",
     "library": "var_list.py",
     "varRefreshCmd": "print(var_dic_list())"
    },
    "r": {
     "delete_cmd_postfix": ") ",
     "delete_cmd_prefix": "rm(",
     "library": "var_list.r",
     "varRefreshCmd": "cat(var_dic_list()) "
    }
   },
   "types_to_exclude": [
    "module",
    "function",
    "builtin_function_or_method",
    "instance",
    "_Feature"
   ],
   "window_display": false
  }
 },
 "nbformat": 4,
 "nbformat_minor": 2
}
