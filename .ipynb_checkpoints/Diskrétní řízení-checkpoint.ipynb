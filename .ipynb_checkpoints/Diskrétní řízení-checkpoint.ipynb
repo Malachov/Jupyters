{
 "cells": [
  {
   "cell_type": "markdown",
   "metadata": {
    "slideshow": {
     "slide_type": "-"
    }
   },
   "source": [
    "# Diskrétní řízení\n",
    "\n",
    "## Diferenciál funkce\n",
    "\n",
    "Tak jako derivace ve spojitých systémech, v diskrétních se používá diference. Jelikož nejmenší detekovatelný rozdíl je pro nás čas vzorkování, použijeme definici, že diferenciál je poměr přírůstku ku vzorkování. Více viz obrázek.\n",
    "\n",
    "<img src=\"Diskrétní řízení\\diferencial_funkce.GIF\" width=500>\n",
    "\n",
    "### Dopředná diference\n",
    "$$ \\Delta f(k)=f(k+1)-f(k) $$\n",
    "$$ \\Delta ^2 f(k)= \\Delta f(k+1)-\\Delta f(k) = f(k+2)-2f(k+1)+f(k) $$\n",
    "\n",
    "### Zpětná diference\n",
    "$$ \\Delta f(k)=f(k)-f(k-1) $$\n",
    "$$ \\Delta ^2 f(k)= \\Delta f(k)-\\Delta f(k-1) = f(k)-2f(k-1)+f(k-2) $$\n",
    "\n",
    "## Diferenční rovnice \n",
    "\n",
    "Systém můžeme definovat tak, že každá hodnota je určitou kombinací hodnot předešlých a vstupů. U spojitých systému je to také pravda, ale jde o infinitezimálně malý krok.\n",
    "\n",
    "$$\n",
    "\\begin{aligned} a_{n} \\Delta^{n} y(k) &+a_{n-1} \\Delta^{n-1} y(k)+\\ldots+a_{1} \\Delta y(k)+a_{0} y(k)=\\beta_{m} \\Delta^{m} u(k)+\\beta_{m-1} \\Delta^{m-1} u(k)+\\ldots+\\beta_{1} \\Delta u(k)+\\beta_{0} u(k) \\end{aligned}\n",
    "$$\n",
    "\n",
    "Jelikož postupujeme tak, že hledáme nějakou konstantu, můžeme například zanedbat znaménko (vyjde záporná konstanta), můžeme se také zbavit jedné konstanty tím, že jí celou rovnici vydělíme. Uvažujme tedy jednoduchý případ - impulzní odezva systému prvního řádu, tedy žádný vstup. Potom pomocí zpětné diference\n",
    "\n",
    "$$ a_0 \\cdot y_k = a_1 \\cdot \\Delta y_{k-1} $$\n",
    "\n",
    "Potom\n",
    "\n",
    "$$ a_0 \\cdot y_k = a_1( \\cdot \\Delta y_{k-1}) $$\n",
    "\n",
    "## Diferenční rovnice v rekurentním tvaru\n",
    "\n",
    "Při vyvozování vztahů můžeme vždy za hodnotu diference dosadit přímou hodnotu předchozích členů. Y(k) můžeme například vyjádřit jako násobek y(k - 1), to zase můžeme vyjádřit jako násobek y(k - 2).\n",
    "\n",
    "### Diferenční rovnice s kladným posunutím\n",
    "\n",
    "$$\n",
    "\\begin{aligned} a_{n} y(k+n)+\\ldots &+a_{1} y(k+1)+a_{0} y(k)=b_{m} u(k+m)+\\ldots+b_{1} u(k+1)+b_{0} u(k) \\end{aligned}\n",
    "$$\n",
    "\n",
    "### Diferenční rovnice se záporným posunutím\n",
    "$$\n",
    "\\begin{aligned} a_{0} y(k)+& a_{1} y(k-1)+\\ldots+a_{n} y(k-n)=\\\\ &=b_{0} u(k)+b_{1} u(k-1)+\\ldots+b_{m} u(k-m) \\end{aligned}\n",
    "$$\n",
    "\n",
    "# Vzorkování\n",
    "\n",
    "Je důležité držet se Shannonova teorému - Vzorkovací frekvence musí být alespoň dvakrát větší něž nejvyšší frekvence obsažená v signálu.\n",
    "\n",
    "Jedna z možných definic optimálního vzorkování.\n",
    "\n",
    "$$ T_{opt}=\\frac{50\\cdot\\tau\\cdot T_p}{y_{max}-y_{min}}$$\n",
    "\n",
    "Nebo experimantálně - pokus / omyl\n",
    "\n",
    "\n",
    "# První jednoduchý příklad\n",
    "\n",
    "Jak bude vypadat systém pospaný rovnicí\n",
    "\n",
    "$$ y(k)= a \\cdot y(k-1) + c $$\n",
    "Kde y0 = 3 a **a** se rovná buď 0.3 a nebo -0.3.\n",
    "Jaký vliv bude mít parametr a, vzorkování, počáteční podmínka a bias? Znázorněte...\n"
   ]
  },
  {
   "cell_type": "code",
   "execution_count": 1,
   "metadata": {
    "ExecuteTime": {
     "end_time": "2019-10-19T15:11:16.833055Z",
     "start_time": "2019-10-19T15:11:16.536427Z"
    }
   },
   "outputs": [
    {
     "data": {
      "application/vnd.jupyter.widget-view+json": {
       "model_id": "a518156219494d43ae27d62861b71a5b",
       "version_major": 2,
       "version_minor": 0
      },
      "text/plain": [
       "Canvas(toolbar=Toolbar(toolitems=[('Home', 'Reset original view', 'home', 'home'), ('Back', 'Back to previous …"
      ]
     },
     "metadata": {},
     "output_type": "display_data"
    },
    {
     "data": {
      "application/vnd.jupyter.widget-view+json": {
       "model_id": "5dd5a160035d43e58944c9d44dd20351",
       "version_major": 2,
       "version_minor": 0
      },
      "text/plain": [
       "interactive(children=(SelectionSlider(description='dt', index=1, options=(('0.001', 0.001), ('0.01', 0.01), ('…"
      ]
     },
     "metadata": {},
     "output_type": "display_data"
    }
   ],
   "source": [
    "import numpy as np\n",
    "%matplotlib widget\n",
    "import matplotlib.pyplot as plt\n",
    "import ipywidgets\n",
    "\n",
    "fig = plt.figure()\n",
    "fig.canvas.layout.width = '700px'\n",
    "\n",
    "def make_y(dt, y0, a, b):\n",
    "    t = np.arange(0, 3, dt)\n",
    "    y = [y0]\n",
    "    for i in range(1, len(t - 1)):\n",
    "        y.append(y[i - 1] * a + b)\n",
    "    \n",
    "    plt.clf()\n",
    "    plt.plot(t, y)\n",
    "    plt.show()\n",
    "\n",
    "dt_sel = [0.001, 0.01, 0.1, 1]\n",
    "ipywidgets.interact(make_y, dt = ipywidgets.SelectionSlider(options=[(\"%g\"%i,i) for i in dt_sel], value=0.01),\n",
    "                            y0 = ipywidgets.IntSlider(min=0, max=5, step=1, value=1),\n",
    "                            a=ipywidgets.FloatSlider(min=0.1, max=1.5, step=0.1, value=0.9),\n",
    "                            b=ipywidgets.FloatSlider(min=0, max=5, step=0.1, value=1));\n"
   ]
  },
  {
   "cell_type": "markdown",
   "metadata": {
    "ExecuteTime": {
     "end_time": "2019-10-14T06:09:14.968823Z",
     "start_time": "2019-10-14T06:09:14.937573Z"
    }
   },
   "source": [
    "!!! Z výsledku je jasně vidět, že daný popis platí pouze pro určité vzorkování. Změníme-li vzorkování, dostaneme úplně jiný systém !!!\n",
    "\n",
    "# Další příklad\n",
    "\n",
    "Máme takovýto systém\n",
    "\n",
    "$$\n",
    "y(k)-0,55 \\cdot y(k-1)=0,35 u(k-1)\n",
    "$$\n",
    "\n",
    "vypočtěte odezvu na takovýto vstup u\n",
    "<img src=\"Diskrétní řízení/Untitled.png\">\n",
    "\n",
    "Otázka... jaký vliv bude mít hodnota parametru b před vstupem u vliv na tvar funkce?"
   ]
  },
  {
   "cell_type": "code",
   "execution_count": 1,
   "metadata": {
    "ExecuteTime": {
     "end_time": "2019-10-19T15:10:39.668309Z",
     "start_time": "2019-10-19T15:10:39.652689Z"
    }
   },
   "outputs": [
    {
     "data": {
      "text/plain": [
       "<Figure size 640x480 with 1 Axes>"
      ]
     },
     "metadata": {},
     "output_type": "display_data"
    }
   ],
   "source": [
    "import numpy as np\n",
    "import matplotlib.pyplot as plt\n",
    "\n",
    "dt = 0.1\n",
    "t = np.arange(0, 20, dt)\n",
    "\n",
    "u = np.zeros(len(t))\n",
    "y = np.zeros(len(t))\n",
    "\n",
    "a = 0.55\n",
    "b = 0.35\n",
    "\n",
    "for i in range(len(u)):\n",
    "    if t[i] > 1 and t[i] < 5 or t[i] > 10 and t[i] < 15:\n",
    "        u[i] = 1\n",
    "\n",
    "for i in range(1, len(t)):\n",
    "    y[i] = a * y[i-1] + b * u[i - 1]\n",
    "    \n",
    "plt.plot(t, y)\n",
    "plt.show()    "
   ]
  },
  {
   "cell_type": "markdown",
   "metadata": {
    "slideshow": {
     "slide_type": "-"
    }
   },
   "source": [
    "Jak je vidět, tak vliv parametru b má vliv pouze na výslednou amplitudu, v případě že máme vstup pouze prvního řádu, tak v rovnici vystupuje stejným způsobem jako bias.\n",
    "\n",
    "\n",
    "## Převod systému ze spojitého na diskrétní\n",
    "\n",
    "Mějme soustavu, jejíž diferenciální popis je\n",
    "\n",
    "$$T_1 \\cdot y'(t)+y(t)=K_s \\cdot u(t)$$\n",
    "\n",
    "Běžně je systém popsán Laplacovou transformací. Laplacův obraz vypadá takto\n",
    "\n",
    "$$F(p)=\\frac{K_S}{1+p \\cdot T_1}$$\n",
    "\n",
    "Laplacův obraz pro nenulové počáteční podmínky je \n",
    "\n",
    "$$\n",
    "\\mathbf{L}\\left\\{\\left(^{n}\\right)\\right\\}=\\mathbf{p}^{n} F(p)-p^{n-1} \\mathbf{f}(0)-p^{n-2} \\mathbf{f}^{\\prime}(0)-\\ldots \\ldots p f^{(n-2)}(0)-\\mathbf{f}^{(n-1)}(0)\n",
    "$$\n",
    "\n",
    "$$\n",
    "{\\mathrm{T}_{1} \\mathrm{pY}(\\mathrm{p})-\\mathrm{T}_{1} \\mathrm{y}(0)+\\mathrm{Y}(\\mathrm{p})=\\mathrm{K}_{\\mathrm{S}} \\mathrm{U}(\\mathrm{p})} \n",
    "$$\n",
    "\n",
    "$$\n",
    "\\mathrm{Y}(\\mathrm{p})=\\frac{\\mathrm{K}_{\\mathrm{S}} \\mathrm{U}(\\mathrm{p})+\\mathrm{T}_{1} \\mathrm{y}(0)}{1+\\mathrm{p} \\mathrm{T}_{1}}\n",
    "$$\n",
    "\n",
    "Víme, že počáteční podmínka je hodnota v minulém kroce, což je pro nás konstanta. Laplacův obraz konstanty c je $ \\frac {c}{p} $\n",
    "Po dosazení\n",
    "\n",
    "$$\n",
    "\\mathrm{Y}(\\mathrm{p})=\\frac{\\mathrm{K}_{\\mathrm{S}} \\mathrm{u}(\\mathrm{k})}{\\mathrm{p}\\left(1+\\mathrm{p} \\mathrm{T}_{1}\\right)}+\\frac{\\mathrm{T}_{1} \\mathrm{y}(\\mathrm{k})}{1+\\mathrm{p} \\mathrm{T}_{1}}\n",
    "$$\n",
    "\n",
    "Chceme li hodnotu v okamžiku k, potom provedeme inverzní Laplacovu transformaci, což může vypadat takto\n",
    "\n",
    "$$\n",
    "\\mathrm{y}(\\tau)_{\\mathrm{k}}=\\mathrm{K}_{\\mathrm{S}} \\mathrm{u}(\\mathrm{k})\\left(1-\\mathrm{e}^{-\\frac{\\tau}{\\mathrm{T}_{1}}}\\right)+\\mathrm{y}(\\mathrm{k}) \\mathrm{e}^{-\\frac{\\tau}{\\mathrm{T}}}\n",
    "$$\n",
    "\n",
    "Nyní se vrátíme k původní definici diferenční rovnice kde y v čase k je konstanta krát y v předchozím kroku + konstanta krát vstup.\n",
    "\n",
    "$$y(k)+a \\cdot y(k-1)=b \\cdot u(k-1)$$\n",
    "\n",
    "Vidíme z předchozího co máme dosadit za a a za b.\n",
    "\n",
    "<br>\n",
    "\n",
    "<span style=\"display: inline-block; width: 30%; margin-left: 20%;\">\n",
    "$$a=-e^{- \\frac {T}{T_1}}$$\n",
    "</span>\n",
    "\n",
    "\n",
    "<span style=\"display: inline-block; width: 30%\">\n",
    "$$b=K_S (1-D)$$\n",
    "</span>\n",
    "\n",
    "Vypočtené koeficienty platí pouze pro dané vzorkování..."
   ]
  },
  {
   "cell_type": "markdown",
   "metadata": {
    "slideshow": {
     "slide_type": "-"
    }
   },
   "source": [
    "# Příklad\n",
    "\n",
    "Vyšetřete přechodovou charakteristiku systému s parametry: Ks = 2,  T1 =  1s, perioda vzorkování T = 0,2s, y(0) = 0 a vyjádřete v diferenční formě.\n",
    "\n",
    "Rovnice popisující systém je tedy \n",
    "$$T_1 \\cdot y'(t)+y(t)=K_s \\cdot u(t)$$"
   ]
  },
  {
   "cell_type": "code",
   "execution_count": 13,
   "metadata": {
    "ExecuteTime": {
     "end_time": "2019-10-19T15:10:39.699552Z",
     "start_time": "2019-10-19T15:10:39.668309Z"
    }
   },
   "outputs": [
    {
     "name": "stdout",
     "output_type": "stream",
     "text": [
      "a =  -0.8187307530779818 \t b =  0.36253849384403636 \n",
      "\n",
      "Potom diferenční rovnice je \n"
     ]
    },
    {
     "data": {
      "text/latex": [
       "$\\displaystyle y(k) = -0.819 \\cdot y(k-1)+0.18 \\cdot u(k-1)$"
      ],
      "text/plain": [
       "<IPython.core.display.Math object>"
      ]
     },
     "metadata": {},
     "output_type": "display_data"
    },
    {
     "data": {
      "application/vnd.jupyter.widget-view+json": {
       "model_id": "",
       "version_major": 2,
       "version_minor": 0
      },
      "text/plain": [
       "Canvas(toolbar=Toolbar(toolitems=[('Home', 'Reset original view', 'home', 'home'), ('Back', 'Back to previous …"
      ]
     },
     "metadata": {},
     "output_type": "display_data"
    }
   ],
   "source": [
    "import numpy as np\n",
    "import matplotlib.pyplot as plt\n",
    "from math import e\n",
    "from IPython.display import display, Math, Latex\n",
    "\n",
    "ks = 2\n",
    "t1 = 1\n",
    "dt = 0.2\n",
    "y0 = 0\n",
    "\n",
    "d = e**(-dt/t1)\n",
    "a = - d\n",
    "\n",
    "b = ks * (1 - d)\n",
    "print('a = ', a, '\\t b = ', b, '\\n\\nPotom diferenční rovnice je ')\n",
    "\n",
    "display(Math(r'y(k) = -0.819 \\cdot y(k-1)+0.18 \\cdot u(k-1)'))\n",
    "\n",
    "t = np.arange(0, 20, dt)\n",
    "u = np.ones(len(t)) \n",
    "y = np.zeros(len(t))\n",
    "\n",
    "a = 0.82\n",
    "b = 0.18\n",
    "\n",
    "\n",
    "for i in range(1, len(y)):\n",
    "    y[i] = a * y[i - 1] + b * u[i - 1]\n",
    "fig = plt.figure()\n",
    "fig.canvas.layout.width = '700px'\n",
    "plt.plot(t, y)\n",
    "plt.show()"
   ]
  },
  {
   "cell_type": "markdown",
   "metadata": {
    "slideshow": {
     "slide_type": "-"
    }
   },
   "source": [
    "# Příklad\n",
    "\n",
    "Dejme tomu, že máme RL obvod. Nejdříve vyřešíme analyticky.\n",
    "\n",
    "$$\n",
    "R i+L \\frac{\\mathrm{d} i}{\\mathrm{d} t}=U\n",
    "$$\n",
    "\n",
    "Nejdříve vyřešíme pro pravou stranu = 0\n",
    "$$\n",
    "R i+L \\frac{\\mathrm{d} i}{\\mathrm{d} t}=0\n",
    "$$\n",
    "\n",
    "$$\n",
    "i=K_{1} \\mathrm{e}^{-\\frac{R}{L} t}\n",
    "$$\n",
    "\n",
    "Tento výsledek derivujeme a dosadíme do úplné rovnice.\n",
    "\n",
    "$$\n",
    "\\begin{array}{c}{\\frac{\\mathrm{d} i}{\\mathrm{d} t}=K_{1}^{\\prime}(t) \\mathrm{e}^{-\\frac{R}{L} t}-K_{1}(t) \\frac{R}{L} \\mathrm{e}^{-\\frac{R}{L} t}} \\\\ {R K_{1}(t) \\mathrm{e}^{-\\frac{R}{L} t}+L\\left(K_{1}^{\\prime}(t) \\mathrm{e}^{-\\frac{R}{L} t}-K_{1}(t) \\frac{R}{L} \\mathrm{e}^{-\\frac{R}{L} t}\\right)=U}\\end{array}\n",
    "$$\n",
    "\n",
    "Dopočítáme konstanty a dostaneme se k výsledku\n",
    "\n",
    "$$\n",
    "i=\\frac{U}{R}\\left(1-\\mathrm{e}^{-\\frac{R}{L} t}\\right)\n",
    "$$\n",
    "\n",
    "Jaký může mít vliv volba R, U a L je možné zobrazit například v nástroji DESMOS, který je pro seznámení se a pochopení matematického modelu vhodnější. Lze se podívat na [RC circuit](https://www.desmos.com/calculator/etmdubgwhw). Printscreen vypadá takto\n",
    "\n",
    "<img src=\"Diskrétní řízení\\desmos.png\" width=650>\n",
    "\n",
    "Nyní, když známe přesné řešení, můžeme porovnat s diskrétním modelem s různým vzorkováním. V následující ukázce je také ukázan vliv velikosti učícího kroku, počtu epoch a náhodných vstupních váh. Jedná se o interaktivní graf, kde je sice mnoho kódu navíc, výsledek je ovšem mnohem názornější. \n",
    "\n",
    "### Diskrétní verze daného spojitého systému - identifikace"
   ]
  },
  {
   "cell_type": "code",
   "execution_count": 3,
   "metadata": {
    "ExecuteTime": {
     "end_time": "2019-10-28T17:29:59.087084Z",
     "start_time": "2019-10-28T17:29:58.977762Z"
    }
   },
   "outputs": [
    {
     "data": {
      "application/vnd.jupyter.widget-view+json": {
       "model_id": "36c6f80f49e340efb57830070a5a5d24",
       "version_major": 2,
       "version_minor": 0
      },
      "text/plain": [
       "Canvas(toolbar=Toolbar(toolitems=[('Home', 'Reset original view', 'home', 'home'), ('Back', 'Back to previous …"
      ]
     },
     "metadata": {},
     "output_type": "display_data"
    },
    {
     "data": {
      "application/vnd.jupyter.widget-view+json": {
       "model_id": "fafa7cc5898541d0a7cb6a8ae3b72732",
       "version_major": 2,
       "version_minor": 0
      },
      "text/plain": [
       "HBox(children=(VBox(children=(SelectionSlider(description='Sampling', index=1, options=(('0.001', 0.001), ('0.…"
      ]
     },
     "metadata": {},
     "output_type": "display_data"
    },
    {
     "data": {
      "application/vnd.jupyter.widget-view+json": {
       "model_id": "2d266c7a5d3b4ff6bbae87a7c7eca915",
       "version_major": 2,
       "version_minor": 0
      },
      "text/plain": [
       "Output()"
      ]
     },
     "metadata": {},
     "output_type": "display_data"
    }
   ],
   "source": [
    "import numpy as np\n",
    "%matplotlib widget\n",
    "import matplotlib.pyplot as plt\n",
    "from math import e\n",
    "import sympy as sp\n",
    "from mpmath import e\n",
    "import ipywidgets\n",
    "from IPython.display import display, Math, Latex\n",
    "\n",
    "U = 10;  R = 5;  L = 3\n",
    "\n",
    "# Create plot, that will be updated\n",
    "fig = plt.figure()\n",
    "fig.canvas.layout.width = '800px'\n",
    "ax = fig.add_subplot(1, 1, 1)\n",
    "t_dis = [0, 7];  y_ref = [0, 2];  y = [0, 2]  # Empty plot container\n",
    "y_ref_pl, = ax.plot(t_dis, y_ref, label=\"Skutečnost\")\n",
    "y_pl, = ax.plot(t_dis, y, label=\"Identifikovaná\")\n",
    "plt.legend(loc=\"upper right\")\n",
    "\n",
    "# Create widgets - Box with sliders\n",
    "mu_sel = [0.001, 0.01, 0.1, 1, 10]\n",
    "dt_sel = [0.001, 0.01, 0.1, 1]\n",
    "\n",
    "layout = ipywidgets.Layout(display='flex', justify_content='space-around', width='1000px')\n",
    "\n",
    "dt_slid = ipywidgets.SelectionSlider(options=[(\"%g\"%i,i) for i in dt_sel], value=0.01, description='Sampling')\n",
    "mu_slid = ipywidgets.SelectionSlider(options=[(\"%g\"%i,i) for i in mu_sel], description='Learning rate')\n",
    "epochs_slid = ipywidgets.IntSlider(min=1, max=20, step=1, value=1, description='Epochs')\n",
    "random_slid = ipywidgets.RadioButtons(options=[0, 1], description='Random w')\n",
    "normalize_slid = ipywidgets.RadioButtons(options=[0, 1], description='Normalize mu')\n",
    "\n",
    "\n",
    "vbox = ipywidgets.VBox([dt_slid, mu_slid, epochs_slid])\n",
    "vbox2 = ipywidgets.VBox([random_slid, normalize_slid])\n",
    "hbox = ipywidgets.HBox([vbox, vbox2], layout=layout)\n",
    "\n",
    "def update(dt, mu, epochs, random=0, minorm=0):\n",
    "    \n",
    "    dt = dt\n",
    "    t_dis = np.arange(0, 10, dt)\n",
    "\n",
    "    ### Continuous system ###\n",
    "    t, i = sp.symbols('t, i')\n",
    "    i = U / R * (1 - sp.exp(-1 *  t * R/L)) \n",
    "    f = sp.lambdify(t, i, \"numpy\")\n",
    "    y_ref = f(t_dis)\n",
    "    \n",
    "    ### Identification with gradient descent (or Least mean squares) ###\n",
    "    y = np.zeros(len(y_ref))\n",
    "    if random:\n",
    "        w = np.random.randn(2)/3\n",
    "    else:\n",
    "        w = np.zeros(2) \n",
    "\n",
    "    X = np.zeros(2)\n",
    "    X[0] = 1\n",
    "    y = np.zeros(len(y_ref))\n",
    "    e = np.zeros(len(y_ref))\n",
    "    mu_orig = mu\n",
    "    w_all = np.zeros((len(y_ref), 2))\n",
    "    y[0]=y_ref[0]\n",
    "            \n",
    "    for ep in range(epochs):\n",
    "        for i in range(1, len(y_ref)):\n",
    "            X[1] = y_ref[i - 1]\n",
    "            y[i] = np.dot(w, X)\n",
    "            e[i]= y_ref[i] - y[i]\n",
    "            if minorm:\n",
    "                mu = mu_orig/(1 + np.dot(X, X))\n",
    "            dw = mu * e[i] * X\n",
    "            w = w + dw\n",
    "            if ep == epochs - 1:\n",
    "                w_all[i] = w \n",
    "\n",
    "    ### Update plot ###\n",
    "    y_pl.set_xdata(t_dis) \n",
    "    y_pl.set_ydata(y)\n",
    "\n",
    "    y_ref_pl.set_xdata(t_dis) \n",
    "    y_ref_pl.set_ydata(y_ref)\n",
    "    \n",
    "    fig.canvas.draw_idle()\n",
    "\n",
    "    \n",
    "    print('\\n\\nAbsolutní chyba za poslední epochu',sum(abs(e)))\n",
    "    print(f'\\nIdentifikované parametry: c = {w[0]}   a = {w[1]}')\n",
    "\n",
    "    display(Math(r'y(k)=a y(k-1) + c'))\n",
    "    display(Math(fr'y(k)={w[1]} \\cdot y(k-1) + {w[0]}'))\n",
    "    \n",
    "interactive_plot = ipywidgets.interactive_output(update, {\"dt\": dt_slid, \"mu\": mu_slid,\n",
    "                                                          \"epochs\": epochs_slid, \"random\": random_slid,\n",
    "                                                          \"minorm\": normalize_slid})\n",
    "\n",
    "\n",
    "display(hbox, interactive_plot)\n"
   ]
  },
  {
   "cell_type": "markdown",
   "metadata": {},
   "source": [
    "## Z-Transformace a analogie ke spojitému řízení\n",
    "### Spojitý systém\n",
    "U spojitého řízení systému prvního řádu má odezva na skok tvar exponenciely $y(t)=e^{-at}$ \n",
    "\n",
    "Laplacův obraz vypadá takto\n",
    "$$y(s)=\\frac{1}{s+a}$$\n",
    "\n",
    "Pól systému je potom $s_p=-a$\n",
    "\n",
    "### Diskrétní systém\n",
    "Signál $y(k)=e^{-akh}$ má z-obraz\n",
    "$$y(z)=\\frac{z}{z-e^{-ah}}$$\n",
    "\n",
    "Pól systém u je potom $z_p=e^{-ah}=e^{s_ph}$\n",
    "\n",
    "\n",
    "# Příklad 2\n",
    "\n",
    "Určete diferenční rovnici regulátoru, regulované soustavy a diferenční rovnici určující závislost regulované veličiny **y(k)** a řídicí veličiny **w(k)** systému, který je ve spojité oblasti popsán:\n",
    "\n",
    "Regulovaná soustava:\n",
    "\n",
    "$$F_S(p)=\\frac{5}{1+10\\cdot p}$$\n",
    "Regulátor:\n",
    "\n",
    "$$F_R(p)=\\frac{0.04}{p}$$\n",
    "\n",
    "Regulační obvod obsahuje vzorkovač s **T = 5s** a tvarovač nultého řádu.\n",
    "\n",
    "## Řešení\n",
    "\n",
    "Do rovnice systému vložíme za vstup rovnici regulátoru pro vzorek [k-1]. \n",
    "\n",
    "$$\n",
    "\\mathrm{y}(\\mathrm{k})+\\mathrm{a} \\cdot \\mathrm{y}(\\mathrm{k}-1)=\\mathrm{b} \\cdot\\left[\\mathrm{r}_{-1} \\cdot \\mathrm{T} \\cdot \\mathrm{e}(\\mathrm{k}-1)+\\mathrm{u}(\\mathrm{k}-2)\\right]\n",
    "$$\n",
    "\n",
    "Následně z rozdílového členu $ e(k)=w(k) - y(k) $ dosadíme za e(k-1). \n",
    "\n",
    "$$\n",
    "\\mathrm{y}(\\mathrm{k})+\\mathrm{a} \\cdot \\mathrm{y}(\\mathrm{k}-1)=\\mathrm{b} \\cdot\\left[\\mathrm{r}_{-1} \\cdot \\mathrm{T} \\cdot[\\mathrm{w}(\\mathrm{k}-1)-\\mathrm{y}(\\mathrm{k}-1)]+\\mathrm{u}(\\mathrm{k}-2)\\right]\n",
    "$$\n",
    "\n",
    "Roznásobíme a dosadíme z rovnice soustavy za $b \\cdot u(k-2)$\n",
    "\n",
    "$$\n",
    "\\mathrm{y}(\\mathrm{k})+\\mathrm{a} \\cdot \\mathrm{y}(\\mathrm{k}-1)=\\mathrm{b} \\cdot \\mathrm{r}_{-1} \\cdot \\mathrm{T} \\cdot \\mathrm{w}(\\mathrm{k}-1)-\\mathrm{b} \\cdot \\mathrm{r}_{-1} \\cdot \\mathrm{T} \\cdot \\mathrm{y}(\\mathrm{k}-1)+\\mathrm{y}(\\mathrm{k}-1)+\\mathrm{a} \\cdot \\mathrm{y}(\\mathrm{k}-2)\n",
    "$$\n",
    "\n",
    "Rovnici upravíme a dosadíme skutečné koeficienty ze "
   ]
  }
 ],
 "metadata": {
  "celltoolbar": "Attachments",
  "kernelspec": {
   "display_name": "Python 3",
   "language": "python",
   "name": "python3"
  },
  "language_info": {
   "codemirror_mode": {
    "name": "ipython",
    "version": 3
   },
   "file_extension": ".py",
   "mimetype": "text/x-python",
   "name": "python",
   "nbconvert_exporter": "python",
   "pygments_lexer": "ipython3",
   "version": "3.8.0"
  },
  "latex_envs": {
   "LaTeX_envs_menu_present": true,
   "autoclose": false,
   "autocomplete": true,
   "bibliofile": "biblio.bib",
   "cite_by": "apalike",
   "current_citInitial": 1,
   "eqLabelWithNumbers": true,
   "eqNumInitial": 1,
   "hotkeys": {
    "equation": "Ctrl-E",
    "itemize": "Ctrl-I"
   },
   "labels_anchors": false,
   "latex_user_defs": false,
   "report_style_numbering": false,
   "user_envs_cfg": false
  },
  "toc": {
   "base_numbering": 1,
   "nav_menu": {},
   "number_sections": false,
   "sideBar": true,
   "skip_h1_title": false,
   "title_cell": "Table of Contents",
   "title_sidebar": "Contents",
   "toc_cell": false,
   "toc_position": {},
   "toc_section_display": true,
   "toc_window_display": false
  },
  "varInspector": {
   "cols": {
    "lenName": 16,
    "lenType": 16,
    "lenVar": 40
   },
   "kernels_config": {
    "python": {
     "delete_cmd_postfix": "",
     "delete_cmd_prefix": "del ",
     "library": "var_list.py",
     "varRefreshCmd": "print(var_dic_list())"
    },
    "r": {
     "delete_cmd_postfix": ") ",
     "delete_cmd_prefix": "rm(",
     "library": "var_list.r",
     "varRefreshCmd": "cat(var_dic_list()) "
    }
   },
   "position": {
    "height": "574px",
    "left": "915px",
    "right": "20px",
    "top": "-18px",
    "width": "350px"
   },
   "types_to_exclude": [
    "module",
    "function",
    "builtin_function_or_method",
    "instance",
    "_Feature"
   ],
   "window_display": false
  }
 },
 "nbformat": 4,
 "nbformat_minor": 4
}
