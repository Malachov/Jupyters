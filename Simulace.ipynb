{
 "cells": [
  {
   "cell_type": "markdown",
   "metadata": {},
   "source": [
    "# Simulace ystému druhého řádu\n",
    "\n",
    "## Příklad\n",
    "\n",
    "Simulujte kmitavý systém\n",
    "$$ y^{''}(t)+2 \\cdot \\eta \\cdot \\Omega_0 \\cdot y^{'}(t)+\\Omega_0^2\\cdot y(t)= b_0 \\cdot u(t)+b_1 \\cdot u^{'} (t)$$\n",
    "\n",
    "Převedení na stavovou formulaci, tj. soustavu $n$ diferenciálních rovnic prvního řádu  $\\textbf{x}'(t)=\\textbf{f}\\left(\\textbf{x}(t),u(t)\\right)$\n",
    "\n",
    "Zde metodou postupné integrace:\n",
    "\n",
    "$$\n",
    "\\begin{bmatrix}\n",
    "&x_1^{'}(t)&\\\\\n",
    "&x_2^{'}(t)&\n",
    "\\end{bmatrix}\n",
    "=\n",
    "\\begin{bmatrix}\n",
    "f_1\\big(\\textbf{x}(t),u(t)\\big)\\\\\n",
    "f_2\\big(\\textbf{x}(t),u(t)\\big)\\\\\n",
    "\\end{bmatrix}\n",
    "=\n",
    "\\begin{bmatrix}\n",
    "-\\Omega_0^2\\cdot x_2(t)- b_0 \\cdot u(t)\\\\\n",
    "-2 \\cdot \\eta \\cdot \\Omega_0 \\cdot x_2(t)-b_1\\cdot u(t)+x_1(t)\n",
    "\\end{bmatrix}\n",
    "$$\n",
    "\n",
    "$$y(t)=-x_2(t)$$"
   ]
  },
  {
   "cell_type": "code",
   "execution_count": 16,
   "metadata": {},
   "outputs": [
    {
     "data": {
      "application/vnd.jupyter.widget-view+json": {
       "model_id": "",
       "version_major": 2,
       "version_minor": 0
      },
      "text/plain": [
       "Canvas(toolbar=Toolbar(toolitems=[('Home', 'Reset original view', 'home', 'home'), ('Back', 'Back to previous …"
      ]
     },
     "metadata": {},
     "output_type": "display_data"
    },
    {
     "name": "stdout",
     "output_type": "stream",
     "text": [
      "0.9870028495788574\n"
     ]
    }
   ],
   "source": [
    "import numpy as np\n",
    "%matplotlib widget\n",
    "import matplotlib.pyplot as plt\n",
    "import time\n",
    "start = time.time()\n",
    "dt = .05  #[sec]\n",
    "t = np.arange(0, 10, dt)\n",
    "N = len(t)  # delka dat\n",
    "\n",
    "u = np.sin(2 * np.pi / 10 * t)\n",
    "u = np.sign(u)\n",
    "\n",
    "\n",
    "from scipy.integrate import odeint\n",
    "import matplotlib.pyplot as plt\n",
    "\n",
    "def fdxdt(x, t, u, Omega, eta, b0,\n",
    "          b1):  # x=[x1 x2 ... xn] vektor hodnot n stavovych velicin\n",
    "    dx1dt = -Omega0**2 * x[1] - b0 * u\n",
    "    dx2dt = -2 * eta * Omega0 * x[1] - b1 * u + x[0]\n",
    "    return (dx1dt, dx2dt)\n",
    "\n",
    "Omega0 = 10\n",
    "eta = .1\n",
    "b0 = Omega0**2\n",
    "b1 = 0\n",
    "\n",
    "y_ref = np.zeros(N)\n",
    "x10 = 0\n",
    "x20 = 0  # poc. podm\n",
    "\n",
    "x0 = [x10, x20]\n",
    "\n",
    "for i in range(0, N - 1):\n",
    "    tt = [t[i], t[i + 1]]  # [t1 t2]\n",
    "    x = odeint(fdxdt, x0, t,\n",
    "               (u[i], Omega0, eta, b0,\n",
    "                b1))  #returns x=[ [x1(t1) x2(t1)] [x1(t2) x2(t2)]]\n",
    "    #    x=odeint(fdxdt,x0,tt,args=(u[i],)) # <-- pokud je jen jeden extra argument, musi se tak\n",
    "    y_ref[i + 1] = -x[1, 1]\n",
    "    x0 = x[1, :]  # jako nove poc. podm pro dalsi integraci\n",
    "\n",
    "plt.plot(y_ref)\n",
    "\n",
    "end = time.time()\n",
    "\n",
    "print(end - start)"
   ]
  },
  {
   "cell_type": "code",
   "execution_count": 6,
   "metadata": {},
   "outputs": [
    {
     "ename": "RuntimeError",
     "evalue": "The array return by func must be one-dimensional, but got ndim=2.",
     "output_type": "error",
     "traceback": [
      "\u001b[1;31m---------------------------------------------------------------------------\u001b[0m",
      "\u001b[1;31mRuntimeError\u001b[0m                              Traceback (most recent call last)",
      "\u001b[1;32m<ipython-input-6-3cf320a17cba>\u001b[0m in \u001b[0;36m<module>\u001b[1;34m\u001b[0m\n\u001b[0;32m     36\u001b[0m sol = odeint(fdxdt, y0, t,\n\u001b[0;32m     37\u001b[0m                args=(u[i], Omega0, eta, b0,\n\u001b[1;32m---> 38\u001b[1;33m                 b1))  #returns x=[ [x1(t1) x2(t1)] [x1(t2) x2(t2)]]\n\u001b[0m\u001b[0;32m     39\u001b[0m \u001b[1;31m#    x=odeint(fdxdt,x0,tt,args=(u[i],)) # <-- pokud je jen jeden extra argument, musi se tak\u001b[0m\u001b[1;33m\u001b[0m\u001b[1;33m\u001b[0m\u001b[1;33m\u001b[0m\u001b[0m\n\u001b[0;32m     40\u001b[0m \u001b[1;33m\u001b[0m\u001b[0m\n",
      "\u001b[1;32mc:\\users\\truton\\appdata\\local\\programs\\python\\python37\\lib\\site-packages\\scipy\\integrate\\odepack.py\u001b[0m in \u001b[0;36modeint\u001b[1;34m(func, y0, t, args, Dfun, col_deriv, full_output, ml, mu, rtol, atol, tcrit, h0, hmax, hmin, ixpr, mxstep, mxhnil, mxordn, mxords, printmessg, tfirst)\u001b[0m\n\u001b[0;32m    242\u001b[0m                              \u001b[0mfull_output\u001b[0m\u001b[1;33m,\u001b[0m \u001b[0mrtol\u001b[0m\u001b[1;33m,\u001b[0m \u001b[0matol\u001b[0m\u001b[1;33m,\u001b[0m \u001b[0mtcrit\u001b[0m\u001b[1;33m,\u001b[0m \u001b[0mh0\u001b[0m\u001b[1;33m,\u001b[0m \u001b[0mhmax\u001b[0m\u001b[1;33m,\u001b[0m \u001b[0mhmin\u001b[0m\u001b[1;33m,\u001b[0m\u001b[1;33m\u001b[0m\u001b[1;33m\u001b[0m\u001b[0m\n\u001b[0;32m    243\u001b[0m                              \u001b[0mixpr\u001b[0m\u001b[1;33m,\u001b[0m \u001b[0mmxstep\u001b[0m\u001b[1;33m,\u001b[0m \u001b[0mmxhnil\u001b[0m\u001b[1;33m,\u001b[0m \u001b[0mmxordn\u001b[0m\u001b[1;33m,\u001b[0m \u001b[0mmxords\u001b[0m\u001b[1;33m,\u001b[0m\u001b[1;33m\u001b[0m\u001b[1;33m\u001b[0m\u001b[0m\n\u001b[1;32m--> 244\u001b[1;33m                              int(bool(tfirst)))\n\u001b[0m\u001b[0;32m    245\u001b[0m     \u001b[1;32mif\u001b[0m \u001b[0moutput\u001b[0m\u001b[1;33m[\u001b[0m\u001b[1;33m-\u001b[0m\u001b[1;36m1\u001b[0m\u001b[1;33m]\u001b[0m \u001b[1;33m<\u001b[0m \u001b[1;36m0\u001b[0m\u001b[1;33m:\u001b[0m\u001b[1;33m\u001b[0m\u001b[1;33m\u001b[0m\u001b[0m\n\u001b[0;32m    246\u001b[0m         \u001b[0mwarning_msg\u001b[0m \u001b[1;33m=\u001b[0m \u001b[0m_msgs\u001b[0m\u001b[1;33m[\u001b[0m\u001b[0moutput\u001b[0m\u001b[1;33m[\u001b[0m\u001b[1;33m-\u001b[0m\u001b[1;36m1\u001b[0m\u001b[1;33m]\u001b[0m\u001b[1;33m]\u001b[0m \u001b[1;33m+\u001b[0m \u001b[1;34m\" Run with full_output = 1 to get quantitative information.\"\u001b[0m\u001b[1;33m\u001b[0m\u001b[1;33m\u001b[0m\u001b[0m\n",
      "\u001b[1;31mRuntimeError\u001b[0m: The array return by func must be one-dimensional, but got ndim=2."
     ]
    }
   ],
   "source": [
    "import numpy as np\n",
    "%matplotlib widget\n",
    "import matplotlib.pyplot as plt\n",
    "import time\n",
    "start = time.time()\n",
    "dt = .05  #[sec]\n",
    "t = np.arange(0, 10, dt)\n",
    "N = len(t)  # delka dat\n",
    "\n",
    "u = np.sin(2 * np.pi / 10 * t)\n",
    "u = np.sign(u)\n",
    "\n",
    "\n",
    "from scipy.integrate import odeint\n",
    "import matplotlib.pyplot as plt\n",
    "\n",
    "def fdxdt(y, t, u, Omega, eta, b0,\n",
    "          b1):  # x=[x1 x2 ... xn] vektor hodnot n stavovych velicin\n",
    "    dy1dt = -Omega0**2 * x[1] - b0 * u\n",
    "    dy2dt = -2 * eta * Omega0 * x[1] - b1 * u + x[0]\n",
    "    dydt = [dy1dt, dy2dt]\n",
    "    return dydt\n",
    "\n",
    "Omega0 = 10\n",
    "eta = .1\n",
    "b0 = Omega0**2\n",
    "b1 = 0\n",
    "\n",
    "y_ref = np.zeros(N)\n",
    "y10 = 0\n",
    "y20 = 0  # poc. podm\n",
    "\n",
    "y0 = [y10, y20]\n",
    "\n",
    "\n",
    "sol = odeint(fdxdt, y0, t,\n",
    "               args=(u[i], Omega0, eta, b0,\n",
    "                b1))  #returns x=[ [x1(t1) x2(t1)] [x1(t2) x2(t2)]]\n",
    "#    x=odeint(fdxdt,x0,tt,args=(u[i],)) # <-- pokud je jen jeden extra argument, musi se tak\n",
    "\n",
    "plt.plot(x[0])\n",
    "\n",
    "plt.plot(x[1])\n",
    "\n",
    "end = time.time()\n",
    "\n",
    "print(end - start)"
   ]
  },
  {
   "cell_type": "code",
   "execution_count": 8,
   "metadata": {},
   "outputs": [
    {
     "data": {
      "application/vnd.jupyter.widget-view+json": {
       "model_id": "2bc0ac9903c946039d32df268dc4920b",
       "version_major": 2,
       "version_minor": 0
      },
      "text/plain": [
       "Canvas(toolbar=Toolbar(toolitems=[('Home', 'Reset original view', 'home', 'home'), ('Back', 'Back to previous …"
      ]
     },
     "metadata": {},
     "output_type": "display_data"
    }
   ],
   "source": [
    "#theta''(t) + b*theta'(t) + c*sin(theta(t)) = 0\n",
    "\n",
    "\n",
    "#theta'(t) = omega(t)\n",
    "#omega'(t) = -b*omega(t) - c*sin(theta(t))\n",
    "\n",
    "\n",
    "\n",
    "def pend(y, t, b, c):\n",
    "    theta, omega = y\n",
    "    dydt = [omega, -b*omega - c*np.sin(theta)]\n",
    "    return dydt\n",
    "\n",
    "\n",
    "\n",
    "\n",
    "b = 0.25\n",
    "c = 5.0\n",
    "\n",
    "\n",
    "y0 = [np.pi - 0.1, 0.0]\n",
    "\n",
    "\n",
    "t = np.linspace(0, 10, 101)\n",
    "\n",
    "\n",
    "from scipy.integrate import odeint\n",
    "sol = odeint(pend, y0, t, args=(b, c))\n",
    "\n",
    "\n",
    "import matplotlib.pyplot as plt\n",
    "plt.plot(t, sol[:, 0], 'b', label='theta(t)')\n",
    "plt.plot(t, sol[:, 1], 'g', label='omega(t)')\n",
    "plt.legend(loc='best')\n",
    "plt.xlabel('t')\n",
    "plt.grid()\n",
    "plt.show()\n",
    "\n"
   ]
  },
  {
   "cell_type": "code",
   "execution_count": 1,
   "metadata": {},
   "outputs": [
    {
     "data": {
      "text/plain": [
       "<matplotlib.legend.Legend at 0x256a1ebcb08>"
      ]
     },
     "execution_count": 1,
     "metadata": {},
     "output_type": "execute_result"
    },
    {
     "data": {
      "image/png": "[encoded data removed]",
      "text/plain": [
       "<Figure size 432x288 with 1 Axes>"
      ]
     },
     "metadata": {
      "needs_background": "light"
     },
     "output_type": "display_data"
    }
   ],
   "source": [
    "import numpy as np\n",
    "from scipy.integrate import odeint\n",
    "\n",
    "%matplotlib inline\n",
    "import matplotlib.pyplot as plt\n",
    "\n",
    "# function that returns dy/dt\n",
    "def model(y,t,k):\n",
    "    dydt = -k * y\n",
    "    return dydt\n",
    "\n",
    "# initial condition\n",
    "y0 = 5\n",
    "\n",
    "# time points\n",
    "t = np.linspace(0,20)\n",
    "\n",
    "# solve ODEs\n",
    "k = 0.1\n",
    "y1 = odeint(model,y0,t,args=(k,))\n",
    "k = 0.2\n",
    "y2 = odeint(model,y0,t,args=(k,))\n",
    "k = 0.5\n",
    "y3 = odeint(model,y0,t,args=(k,))\n",
    "\n",
    "# plot results\n",
    "plt.plot(t,y1,'r-',linewidth=2,label='k=0.1')\n",
    "plt.plot(t,y2,'b--',linewidth=2,label='k=0.2')\n",
    "plt.plot(t,y3,'g:',linewidth=2,label='k=0.5')\n",
    "plt.xlabel('time')\n",
    "plt.ylabel('y(t)')\n",
    "plt.legend()\n",
    "plt.show()"
   ]
  },
  {
   "cell_type": "code",
   "execution_count": null,
   "metadata": {},
   "outputs": [],
   "source": []
  }
 ],
 "metadata": {
  "kernelspec": {
   "display_name": "Python 3",
   "language": "python",
   "name": "python3"
  },
  "language_info": {
   "codemirror_mode": {
    "name": "ipython",
    "version": 3
   },
   "file_extension": ".py",
   "mimetype": "text/x-python",
   "name": "python",
   "nbconvert_exporter": "python",
   "pygments_lexer": "ipython3",
   "version": "3.7.4"
  }
 },
 "nbformat": 4,
 "nbformat_minor": 4
}
